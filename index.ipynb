{
  "cells": [
    {
      "cell_type": "markdown",
      "metadata": {
        "id": "view-in-github",
        "colab_type": "text"
      },
      "source": [
        "<a href=\"https://colab.research.google.com/github/Valentino-Wanjiku/dsc-variable-assignment-intro/blob/master/index.ipynb\" target=\"_parent\"><img src=\"https://colab.research.google.com/assets/colab-badge.svg\" alt=\"Open In Colab\"/></a>"
      ]
    },
    {
      "cell_type": "markdown",
      "metadata": {
        "id": "B4GUrGtqLoVi"
      },
      "source": [
        "# Introduction to Variables: Strings and Numeric Types - CodeAlong\n",
        "\n",
        "## Introduction\n",
        "Now that we have learned about working with different types of data in Python: strings, numbers (ints and floats), and booleans, let's put that knowledge to the test. In this lab we'll imagine that we were at a nice social gathering and exchanged business cards with a few people. One of the business cards belongs to Art Vandelay, a new travel agent. We want to use our programming skills to format this information correctly.\n",
        "\n",
        "## Objectives\n",
        "\n",
        "You will be able to:\n",
        "\n",
        "* Apply string methods to make changes to a string\n",
        "* Use concatenation to combine strings\n",
        "* Perform basic mathematical operations with numeric data types\n",
        "\n",
        "## Instructions\n",
        "\n",
        "The next morning we take out the business card, ready to format it using our programming skills, and here is what we find.\n",
        "\n",
        "![](https://learn-verified.s3.amazonaws.com/data-science-assets/biz-card-mistakes.jpg)\n",
        "\n",
        "Yeah, Mr. Vandelay may not be the best at designing business cards, but like Mr. Vandelay, we know that people enter incorrect information on forms all the time.\n",
        "\n",
        "So as Data Scientists, we often need to clean and organize data before we can make sense of it.  Let's get to work.\n",
        "\n",
        "In this exercise, we'll see that there is some data already provided for us.  Next to the data, we will see a comment indicating what the data should look like after we change it.  \n",
        "\n",
        "> Comments are indicated in Python by a `#` followed by text. They do not get run and will not affect our code. Here we are using them to show what the intended output should be.\n",
        "\n",
        "For example, let's say we want to capitalize all of the letters of \"art vandelay\".  We'll see the following:"
      ]
    },
    {
      "cell_type": "code",
      "execution_count": 1,
      "metadata": {
        "collapsed": true,
        "id": "fSLHLxH2LoVk",
        "outputId": "50e317b4-60a4-4d86-9b61-6c6b99309ddd",
        "colab": {
          "base_uri": "https://localhost:8080/",
          "height": 35
        }
      },
      "outputs": [
        {
          "output_type": "execute_result",
          "data": {
            "text/plain": [
              "'art vandelay'"
            ],
            "application/vnd.google.colaboratory.intrinsic+json": {
              "type": "string"
            }
          },
          "metadata": {},
          "execution_count": 1
        }
      ],
      "source": [
        "\"art vandelay\" # \"ART VANDELAY\""
      ]
    },
    {
      "cell_type": "markdown",
      "source": [
        "How .upper() works:\n",
        "It returns a new string where all lowercase letters are converted to uppercase.\n",
        "\n",
        "It does not change the original string unless you assign it to a new variable (like shouted_name) or overwrite the old one."
      ],
      "metadata": {
        "id": "fyaXWUNqR-gN"
      }
    },
    {
      "cell_type": "code",
      "source": [
        "name = \"art vandelay\"\n",
        "shouted_name = name.upper()\n",
        "print(shouted_name)"
      ],
      "metadata": {
        "id": "4f8t8Oh4Rpvy",
        "outputId": "ecb6d5f4-1d4d-42f9-c9b7-1ae97b748a29",
        "colab": {
          "base_uri": "https://localhost:8080/"
        }
      },
      "execution_count": 9,
      "outputs": [
        {
          "output_type": "stream",
          "name": "stdout",
          "text": [
            "ART VANDELAY\n"
          ]
        }
      ]
    },
    {
      "cell_type": "markdown",
      "metadata": {
        "id": "hFMhkjfuLoVk"
      },
      "source": [
        "> **Reminder:** *to **run** the code in a jupyter notebook, press shift + enter after selecting the cell you would like to run.*\n",
        "\n",
        "To get our output to match the comment we can use the `upper()` method as shown here:"
      ]
    },
    {
      "cell_type": "code",
      "execution_count": 2,
      "metadata": {
        "collapsed": true,
        "id": "mYK463DcLoVk",
        "outputId": "dd3c2963-c1ca-456b-d539-26364f8a04d7",
        "colab": {
          "base_uri": "https://localhost:8080/",
          "height": 35
        }
      },
      "outputs": [
        {
          "output_type": "execute_result",
          "data": {
            "text/plain": [
              "'ART VANDELAY'"
            ],
            "application/vnd.google.colaboratory.intrinsic+json": {
              "type": "string"
            }
          },
          "metadata": {},
          "execution_count": 2
        }
      ],
      "source": [
        "\"art vandelay\".upper() # 'ART VANDELAY'"
      ]
    },
    {
      "cell_type": "code",
      "source": [],
      "metadata": {
        "id": "gJXz8_j9R3o2"
      },
      "execution_count": null,
      "outputs": []
    },
    {
      "cell_type": "markdown",
      "metadata": {
        "id": "TsnVy0bgLoVl"
      },
      "source": [
        "## Get Going with Strings\n",
        "\n",
        "Our first problem will be to capitalize the first letter of each word in `\"art vandelay\"`. Find the correct string method to capitalize both the first and last names."
      ]
    },
    {
      "cell_type": "code",
      "execution_count": 3,
      "metadata": {
        "collapsed": true,
        "id": "EaJtRY9lLoVl",
        "outputId": "4ae64f25-415e-4028-8d7c-2784b42dfc38",
        "colab": {
          "base_uri": "https://localhost:8080/",
          "height": 35
        }
      },
      "outputs": [
        {
          "output_type": "execute_result",
          "data": {
            "text/plain": [
              "'art vandelay'"
            ],
            "application/vnd.google.colaboratory.intrinsic+json": {
              "type": "string"
            }
          },
          "metadata": {},
          "execution_count": 3
        }
      ],
      "source": [
        "art_vandelay = \"art vandelay\" # 'Art Vandelay'\n",
        "art_vandelay"
      ]
    },
    {
      "cell_type": "code",
      "source": [
        "name = art_vandelay.title ()\n",
        "print(name)"
      ],
      "metadata": {
        "id": "0x8kQGKiSVNu",
        "outputId": "ea933a97-e6c5-491f-d94e-6a061d05f4ef",
        "colab": {
          "base_uri": "https://localhost:8080/"
        }
      },
      "execution_count": 10,
      "outputs": [
        {
          "output_type": "stream",
          "name": "stdout",
          "text": [
            "Art Vandelay\n"
          ]
        }
      ]
    },
    {
      "cell_type": "markdown",
      "metadata": {
        "id": "REcO4lfLLoVl"
      },
      "source": [
        "Now let's turn all the letters of \"Ceo\" to uppercase."
      ]
    },
    {
      "cell_type": "code",
      "source": [
        "Moringa_position = \"Ceo\"\n",
        "uppercase_Moringa_position = Moringa_position.upper()\n",
        "print(uppercase_Moringa_position)\n"
      ],
      "metadata": {
        "id": "ItzUJO77SpZI",
        "outputId": "99b05a05-d4ad-4838-f479-b7b2027768aa",
        "colab": {
          "base_uri": "https://localhost:8080/"
        }
      },
      "execution_count": 12,
      "outputs": [
        {
          "output_type": "stream",
          "name": "stdout",
          "text": [
            "CEO\n"
          ]
        }
      ]
    },
    {
      "cell_type": "code",
      "execution_count": 4,
      "metadata": {
        "collapsed": true,
        "id": "a7wvWcZvLoVl",
        "outputId": "5d6b57d4-82c6-4493-fa4c-7bb2ec1a8f7c",
        "colab": {
          "base_uri": "https://localhost:8080/",
          "height": 35
        }
      },
      "outputs": [
        {
          "output_type": "execute_result",
          "data": {
            "text/plain": [
              "'Ceo'"
            ],
            "application/vnd.google.colaboratory.intrinsic+json": {
              "type": "string"
            }
          },
          "metadata": {},
          "execution_count": 4
        }
      ],
      "source": [
        "ceo = \"Ceo\" # 'CEO'\n",
        "ceo"
      ]
    },
    {
      "cell_type": "markdown",
      "metadata": {
        "id": "HZR0Sq6hLoVl"
      },
      "source": [
        "Next we will need our code to answer a question about email addresses. Every email address should end with \".com\". Find the right string method to check if the email address ends with `\".com\"` and return `True` or `False` accordingly."
      ]
    },
    {
      "cell_type": "code",
      "execution_count": 5,
      "metadata": {
        "collapsed": true,
        "id": "SXGRpRtXLoVl",
        "outputId": "42a4fab5-8978-42c2-dbe9-9ba45fd5156e",
        "colab": {
          "base_uri": "https://localhost:8080/",
          "height": 35
        }
      },
      "outputs": [
        {
          "output_type": "execute_result",
          "data": {
            "text/plain": [
              "'art.vandelay@vandelay.co'"
            ],
            "application/vnd.google.colaboratory.intrinsic+json": {
              "type": "string"
            }
          },
          "metadata": {},
          "execution_count": 5
        }
      ],
      "source": [
        "ends_with_com = \"art.vandelay@vandelay.co\" # False\n",
        "ends_with_com"
      ]
    },
    {
      "cell_type": "code",
      "source": [
        "moringa_email = \"example@domain.com\"\n",
        "is_com = moringa_email.endswith(\".com\")\n",
        "if is_com:\n",
        "    print(True)\n",
        "else:\n",
        "  print(false)\n",
        "\n",
        "\n"
      ],
      "metadata": {
        "id": "ROpealoVTR_J",
        "outputId": "babab0c2-b851-418d-83c5-e108690191c4",
        "colab": {
          "base_uri": "https://localhost:8080/"
        }
      },
      "execution_count": 17,
      "outputs": [
        {
          "output_type": "stream",
          "name": "stdout",
          "text": [
            "True\n"
          ]
        }
      ]
    },
    {
      "cell_type": "markdown",
      "source": [
        "What it's trying to do:\n",
        "Assign a string to a variable:\n",
        "\n",
        "python\n",
        "Copy\n",
        "Edit\n",
        "moringa_email = \"example@domain.com\"\n",
        "This sets the email address to a variable called moringa_email.\n",
        "\n",
        "Check if the email ends with \".com\":\n",
        "\n",
        "python\n",
        "Copy\n",
        "Edit\n",
        "is_com = moringa_email.endswith(\".com\") is True\n",
        "This line is more complex than it needs to be.\n",
        "\n",
        "moringa_email.endswith(\".com\") already returns a boolean (True or False).\n",
        "\n",
        "Appending is True isn't necessary, but it doesn't break anything — it just evaluates whether the result is literally equal to True.\n",
        "\n",
        "✅ Better version:\n",
        "\n",
        "python\n",
        "Copy\n",
        "Edit\n",
        "is_com = moringa_email.endswith(\".com\")"
      ],
      "metadata": {
        "id": "GfQRXZFUUmfj"
      }
    },
    {
      "cell_type": "markdown",
      "metadata": {
        "id": "6Bzegk3LLoVl"
      },
      "source": [
        "As you can see below, the website `\"vandelay.com\"` is not preceded by `\"www.\"`. We can perform what is called string concatenation to fix this! Use the plus sign, `'+'`, to change the website `'vandelay.com'` to the string `'www.vandelay.com'` by prepending `'www.'`."
      ]
    },
    {
      "cell_type": "code",
      "execution_count": 18,
      "metadata": {
        "collapsed": true,
        "scrolled": true,
        "id": "MZ3nvCtmLoVm",
        "outputId": "06946a36-3738-4963-f2ea-35edddc55fe8",
        "colab": {
          "base_uri": "https://localhost:8080/",
          "height": 35
        }
      },
      "outputs": [
        {
          "output_type": "execute_result",
          "data": {
            "text/plain": [
              "'vandelay.com'"
            ],
            "application/vnd.google.colaboratory.intrinsic+json": {
              "type": "string"
            }
          },
          "metadata": {},
          "execution_count": 18
        }
      ],
      "source": [
        "web_address = 'vandelay.com' # 'www.vandelay.com'\n",
        "web_address"
      ]
    },
    {
      "cell_type": "code",
      "source": [
        "website_address = \"vandelay.com\"\n",
        "full_website = \"www.\" + website_address\n",
        "print(full_website)\n"
      ],
      "metadata": {
        "id": "eFIEQ6eKU6Sn",
        "outputId": "06080cf8-b557-443b-eb93-62673cfb744b",
        "colab": {
          "base_uri": "https://localhost:8080/"
        }
      },
      "execution_count": 19,
      "outputs": [
        {
          "output_type": "stream",
          "name": "stdout",
          "text": [
            "www.vandelay.com\n"
          ]
        }
      ]
    },
    {
      "cell_type": "markdown",
      "source": [
        " What’s happening:\n",
        "\"www.\" is a string\n",
        "\n",
        "website is a string (\"vandelay.com\")\n",
        "\n",
        "Using + combines them into one new **string**"
      ],
      "metadata": {
        "id": "jVNWdM8UVJFJ"
      }
    },
    {
      "cell_type": "markdown",
      "metadata": {
        "id": "jg2at6zFLoVm"
      },
      "source": [
        "## Working with Numbers\n",
        "\n",
        "Finally, Mr. Vandelay gave us his phone number, but he actually has two other phone numbers that are different from the one listed on his business card.  All three numbers are basically the same with the exception of the ending. Below, start by coercing the first phone number, which is currently a string, to an `int` and add one. Next do the same to the second phone number but increase it by two."
      ]
    },
    {
      "cell_type": "code",
      "execution_count": 7,
      "metadata": {
        "collapsed": true,
        "id": "xX7Zm1o-LoVm",
        "outputId": "e02ef698-71b5-4102-bccc-b0c5e54f35bb",
        "colab": {
          "base_uri": "https://localhost:8080/",
          "height": 35
        }
      },
      "outputs": [
        {
          "output_type": "execute_result",
          "data": {
            "text/plain": [
              "'7285553334'"
            ],
            "application/vnd.google.colaboratory.intrinsic+json": {
              "type": "string"
            }
          },
          "metadata": {},
          "execution_count": 7
        }
      ],
      "source": [
        "phone_num_one = \"7285553334\" # 7285553335\n",
        "phone_num_one"
      ]
    },
    {
      "cell_type": "code",
      "execution_count": 8,
      "metadata": {
        "collapsed": true,
        "id": "AmEF6guNLoVm",
        "outputId": "12dc3e75-926c-437c-c25c-d2b0355fb842",
        "colab": {
          "base_uri": "https://localhost:8080/",
          "height": 35
        }
      },
      "outputs": [
        {
          "output_type": "execute_result",
          "data": {
            "text/plain": [
              "'7285553334'"
            ],
            "application/vnd.google.colaboratory.intrinsic+json": {
              "type": "string"
            }
          },
          "metadata": {},
          "execution_count": 8
        }
      ],
      "source": [
        "phone_num_two = \"7285553334\" # 7285553336\n",
        "phone_num_two"
      ]
    },
    {
      "cell_type": "code",
      "source": [
        "phone_num_one = \"7285553334\"\n",
        "phone_1_int = int(phone_num_one) + 1\n",
        "print(phone_1_int)\n",
        "\n"
      ],
      "metadata": {
        "id": "43hBevXqVoOy",
        "outputId": "6ee843bd-fa1c-4cdc-b1d7-d2c1f8beb73f",
        "colab": {
          "base_uri": "https://localhost:8080/"
        }
      },
      "execution_count": 20,
      "outputs": [
        {
          "output_type": "stream",
          "name": "stdout",
          "text": [
            "7285553335\n"
          ]
        }
      ]
    },
    {
      "cell_type": "code",
      "source": [
        "phone_num_two = \"7285553336\"\n",
        "phone_2_int = int(phone_num_two) + 2\n",
        "print(phone_2_int)"
      ],
      "metadata": {
        "id": "u22p1SApVn97",
        "outputId": "c9bbd362-2ce5-4818-86f1-27be23d788ce",
        "colab": {
          "base_uri": "https://localhost:8080/"
        }
      },
      "execution_count": 22,
      "outputs": [
        {
          "output_type": "stream",
          "name": "stdout",
          "text": [
            "7285553338\n"
          ]
        }
      ]
    },
    {
      "cell_type": "code",
      "source": [
        "phone_num_one = \"7285553334\"\n",
        "phone_1_int = int(phone_num_one) + 1\n",
        "\n",
        "phone_num_two = \"7285553336\"\n",
        "phone_2_int = int(phone_num_two) + 2\n",
        "\n",
        "print(phone_1_int)\n",
        "print(phone_2_int)\n"
      ],
      "metadata": {
        "id": "a1kI1YprW7_b",
        "outputId": "bd8d59d1-0f7b-440e-eab7-bf319930dcb6",
        "colab": {
          "base_uri": "https://localhost:8080/"
        }
      },
      "execution_count": 23,
      "outputs": [
        {
          "output_type": "stream",
          "name": "stdout",
          "text": [
            "7285553335\n",
            "7285553338\n"
          ]
        }
      ]
    },
    {
      "cell_type": "markdown",
      "source": [
        "Convert the phone number from a string to a number\n",
        "\n",
        "Add 1 to one of them\n",
        "\n",
        "Add 2 to the second one\n",
        "\n",
        "\n",
        "You coerced (converted) a string to an integer using int()\n",
        "\n",
        "You used + to increment the number\n",
        "\n",
        "You now have two alternate phone numbers with slightly different endings"
      ],
      "metadata": {
        "id": "srGAATj8Xwa_"
      }
    },
    {
      "cell_type": "markdown",
      "metadata": {
        "id": "Q-VN9wNzLoVm"
      },
      "source": [
        "## Summary\n",
        "\n",
        "In this lab, we practiced working with string methods to operate on and answer questions about strings. We wrote methods that return Booleans and changed strings to integers in order to perform addition. So much of working with data is ensuring that it is properly formatted so we can then operate on it, and in this lab, we saw how to use code to do just that."
      ]
    }
  ],
  "metadata": {
    "kernelspec": {
      "display_name": "Python 3",
      "language": "python",
      "name": "python3"
    },
    "language_info": {
      "codemirror_mode": {
        "name": "ipython",
        "version": 3
      },
      "file_extension": ".py",
      "mimetype": "text/x-python",
      "name": "python",
      "nbconvert_exporter": "python",
      "pygments_lexer": "ipython3",
      "version": "3.8.5"
    },
    "toc": {
      "base_numbering": 1,
      "nav_menu": {},
      "number_sections": true,
      "sideBar": true,
      "skip_h1_title": false,
      "title_cell": "Table of Contents",
      "title_sidebar": "Contents",
      "toc_cell": false,
      "toc_position": {},
      "toc_section_display": true,
      "toc_window_display": false
    },
    "colab": {
      "provenance": [],
      "toc_visible": true,
      "include_colab_link": true
    }
  },
  "nbformat": 4,
  "nbformat_minor": 0
}