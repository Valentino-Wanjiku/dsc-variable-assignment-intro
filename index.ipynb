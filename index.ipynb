{
  "cells": [
    {
      "cell_type": "markdown",
      "metadata": {
        "id": "view-in-github",
        "colab_type": "text"
      },
      "source": [
        "<a href=\"https://colab.research.google.com/github/Valentino-Wanjiku/dsc-variable-assignment-intro/blob/master/index.ipynb\" target=\"_parent\"><img src=\"https://colab.research.google.com/assets/colab-badge.svg\" alt=\"Open In Colab\"/></a>"
      ]
    },
    {
      "cell_type": "markdown",
      "metadata": {
        "id": "H36ATgfMEDl2"
      },
      "source": [
        "# Introduction to Variables: Strings - Lab"
      ]
    },
    {
      "cell_type": "markdown",
      "metadata": {
        "id": "_qj0nIUpEDl5"
      },
      "source": [
        "## Introduction\n",
        "Okay, we have learned about our first data type, the String! Now let's do a little practice with strings. We'll use the methods and functions we introduced in the previous lesson to flex our string-manipulating muscles!"
      ]
    },
    {
      "cell_type": "markdown",
      "metadata": {
        "id": "FADQoUIvEDl6"
      },
      "source": [
        "## Objectives\n",
        "\n",
        "You will be able to:\n",
        "\n",
        "* Apply string methods to make changes to a string\n",
        "* Use concatenation to combine strings"
      ]
    },
    {
      "cell_type": "markdown",
      "metadata": {
        "id": "gjFtLK_NEDl6"
      },
      "source": [
        "## Instructions\n",
        "\n",
        "Follow the steps below to manipulate the strings and assign the values to the variables below.\n",
        "\n",
        "**1.** Below, we have a sentence whose cases are all over the place. Let's normalize the cases and make everything lower case except the first letter in the sentence. **hint:** *there is a string method that does this*"
      ]
    },
    {
      "cell_type": "code",
      "execution_count": 1,
      "metadata": {
        "id": "XwzEwZxZEDl6",
        "colab": {
          "base_uri": "https://localhost:8080/",
          "height": 35
        },
        "outputId": "9f4567b4-59c9-4997-b839-4be032e43afc"
      },
      "outputs": [
        {
          "output_type": "execute_result",
          "data": {
            "text/plain": [
              "'woW WE LOVE cOdInG and strINGS!'"
            ],
            "application/vnd.google.colaboratory.intrinsic+json": {
              "type": "string"
            }
          },
          "metadata": {},
          "execution_count": 1
        }
      ],
      "source": [
        "sentence = \"woW WE LOVE cOdInG and strINGS!\"\n",
        "sentence"
      ]
    },
    {
      "cell_type": "code",
      "source": [
        "sentence = sentence.capitalize()\n",
        "sentence"
      ],
      "metadata": {
        "colab": {
          "base_uri": "https://localhost:8080/",
          "height": 35
        },
        "id": "LuMXXE6fG5vP",
        "outputId": "55bba412-9898-4bf2-c736-2252e2f26afa"
      },
      "execution_count": 4,
      "outputs": [
        {
          "output_type": "execute_result",
          "data": {
            "text/plain": [
              "'Wow we love coding and strings!'"
            ],
            "application/vnd.google.colaboratory.intrinsic+json": {
              "type": "string"
            }
          },
          "metadata": {},
          "execution_count": 4
        }
      ]
    },
    {
      "cell_type": "code",
      "source": [
        "normalized_sentence = sentence.capitalize()\n",
        "\"Hello there, how are you doing?\"\n",
        "\n"
      ],
      "metadata": {
        "colab": {
          "base_uri": "https://localhost:8080/",
          "height": 35
        },
        "id": "ZW7Uf3jDGlXI",
        "outputId": "ff3053f6-f06c-4652-9713-b41218dc794f"
      },
      "execution_count": 15,
      "outputs": [
        {
          "output_type": "execute_result",
          "data": {
            "text/plain": [
              "'Hello there, how are you doing?'"
            ],
            "application/vnd.google.colaboratory.intrinsic+json": {
              "type": "string"
            }
          },
          "metadata": {},
          "execution_count": 15
        }
      ]
    },
    {
      "cell_type": "markdown",
      "metadata": {
        "id": "Zh6jdxvOEDl8"
      },
      "source": [
        "**2.** Next, we have our Flatiron mantra, but it's not in title case like it should be! Let's fix that and use another string method that makes all strings first letter capitalized."
      ]
    },
    {
      "cell_type": "code",
      "execution_count": null,
      "metadata": {
        "id": "hz7E56Z1EDl8"
      },
      "outputs": [],
      "source": [
        "flatiron_mantra = \"learn. love. code.\"\n",
        "flatiron_mantra"
      ]
    },
    {
      "cell_type": "code",
      "source": [
        "flatiron_mantra = \"learn. love. code.\"\n",
        "title_cased_mantra = flatiron_mantra.title()\n",
        "print(title_cased_mantra)\n"
      ],
      "metadata": {
        "colab": {
          "base_uri": "https://localhost:8080/"
        },
        "id": "IxcxA1pRHPm-",
        "outputId": "e128e2c6-c87b-44b6-8d2e-87e2ab7df320"
      },
      "execution_count": 11,
      "outputs": [
        {
          "output_type": "stream",
          "name": "stdout",
          "text": [
            "Learn. Love. Code.\n"
          ]
        }
      ]
    },
    {
      "cell_type": "markdown",
      "metadata": {
        "id": "at_MCOrtEDl9"
      },
      "source": [
        "**3.** The next thing we want to do is practice turning other data types into strings. Below, we have a number `1234`, which happens to be our street number in our address, which is a string. So, let's turn the number into a string so we can eventually add it to our address. The process of linking different strings together is called **concatenation**."
      ]
    },
    {
      "cell_type": "code",
      "execution_count": 16,
      "metadata": {
        "id": "-_Ytb9Q5EDl9",
        "colab": {
          "base_uri": "https://localhost:8080/"
        },
        "outputId": "e2941aed-d0ac-4062-ef14-e40ca186fa76"
      },
      "outputs": [
        {
          "output_type": "execute_result",
          "data": {
            "text/plain": [
              "1234"
            ]
          },
          "metadata": {},
          "execution_count": 16
        }
      ],
      "source": [
        "num_to_string = 1234\n",
        "num_to_string"
      ]
    },
    {
      "cell_type": "code",
      "source": [
        "street_num = \" 12345\"\n",
        "address =  \" main street\"\n",
        "print(address + street_num )"
      ],
      "metadata": {
        "colab": {
          "base_uri": "https://localhost:8080/"
        },
        "id": "2PeoTav6JGpM",
        "outputId": "9470c989-971e-481d-a8db-270b2c009fb5"
      },
      "execution_count": 46,
      "outputs": [
        {
          "output_type": "stream",
          "name": "stdout",
          "text": [
            " main street 12345\n"
          ]
        }
      ]
    },
    {
      "cell_type": "code",
      "source": [],
      "metadata": {
        "id": "MKH6VSZYKtQf"
      },
      "execution_count": null,
      "outputs": []
    },
    {
      "cell_type": "markdown",
      "metadata": {
        "id": "xN0RQNxAEDl9"
      },
      "source": [
        "**4.** Let's take the `num_to_string` and add it to the beginning of our street address below. We need to concatenate the variable to the beginning of our string so that we have our full address all in one string and assigned to the variable `full_address`. **hint:** `None` *is a placeholder in the below code for you to edit*"
      ]
    },
    {
      "cell_type": "code",
      "execution_count": null,
      "metadata": {
        "id": "gmC9_rIjEDl9"
      },
      "outputs": [],
      "source": [
        "full_address = None + \" Abc street, Hometown USA\"\n",
        "full_address"
      ]
    },
    {
      "cell_type": "code",
      "source": [
        "full_address = \"12345\" +  \" Moringa street, Nairobi Kenya\"\n",
        "print(full_address)"
      ],
      "metadata": {
        "id": "QZZhld22Lxla",
        "outputId": "6febd3c3-9861-4733-e13c-12d96609ad31",
        "colab": {
          "base_uri": "https://localhost:8080/"
        }
      },
      "execution_count": 43,
      "outputs": [
        {
          "output_type": "stream",
          "name": "stdout",
          "text": [
            "12345 Moringa street, Nairobi Kenya\n"
          ]
        }
      ]
    },
    {
      "cell_type": "markdown",
      "metadata": {
        "id": "-bYd6yXDEDl-"
      },
      "source": [
        "**5.** Finally, let's replace some of the characters in a string. Let's say Bart is upset with his family and wants to be adopted by the Flanders family. How would you replace his last name?\n",
        "\n",
        "**Hint:** We did not directly cover this method in the lesson. Check out the string helper docstring for a list of available methods."
      ]
    },
    {
      "cell_type": "code",
      "execution_count": null,
      "metadata": {
        "id": "1mnuGEvbEDl-"
      },
      "outputs": [],
      "source": [
        "help(str)"
      ]
    },
    {
      "cell_type": "code",
      "execution_count": 47,
      "metadata": {
        "id": "5W8NQXbbEDl-",
        "colab": {
          "base_uri": "https://localhost:8080/"
        },
        "outputId": "737107bb-9769-43cd-bb18-095e0b6ccd0b"
      },
      "outputs": [
        {
          "output_type": "stream",
          "name": "stdout",
          "text": [
            "Bart Wanjiku\n"
          ]
        }
      ],
      "source": [
        "name = \"Bart Simpson\"\n",
        "new_name = name.replace(\"Simpson\", \"Wanjiku\")\n",
        "print(new_name)\n"
      ]
    },
    {
      "cell_type": "markdown",
      "metadata": {
        "id": "skYdBoa1EDl-"
      },
      "source": [
        "## Summary\n",
        "Great work! In this lab we practiced our skills with strings. We can now manipulate, coerce, and concatenate strings. Remember if there are any things you can't remember or want to discover about code that isn't mentioned in this material, googling is always a great practice!"
      ]
    }
  ],
  "metadata": {
    "kernelspec": {
      "display_name": "Python (learn-env)",
      "language": "python",
      "name": "learn-env"
    },
    "language_info": {
      "codemirror_mode": {
        "name": "ipython",
        "version": 3
      },
      "file_extension": ".py",
      "mimetype": "text/x-python",
      "name": "python",
      "nbconvert_exporter": "python",
      "pygments_lexer": "ipython3",
      "version": "3.8.5"
    },
    "colab": {
      "provenance": [],
      "include_colab_link": true
    }
  },
  "nbformat": 4,
  "nbformat_minor": 0
}